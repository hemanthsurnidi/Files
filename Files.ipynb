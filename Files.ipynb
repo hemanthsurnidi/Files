{
  "nbformat": 4,
  "nbformat_minor": 0,
  "metadata": {
    "colab": {
      "provenance": []
    },
    "kernelspec": {
      "name": "python3",
      "display_name": "Python 3"
    },
    "language_info": {
      "name": "python"
    }
  },
  "cells": [
    {
      "cell_type": "code",
      "execution_count": null,
      "metadata": {
        "id": "z0xUQAmkpUUz"
      },
      "outputs": [],
      "source": []
    },
    {
      "cell_type": "markdown",
      "source": [
        "**Theoritical Questions**"
      ],
      "metadata": {
        "id": "6EOOC2bgp7zx"
      }
    },
    {
      "cell_type": "markdown",
      "source": [
        "1. Q: What is the difference between interpreted and compiled languages?\n",
        "\n",
        "A: Interpreted languages execute code line by line, while compiled languages convert the whole code into machine code before execution.\n",
        "\n",
        "2. Q: What is exception handling in Python?\n",
        "\n",
        "A: Exception handling is a mechanism to catch and handle errors during program execution without crashing the program.\n",
        "\n",
        "3. Q: What is the purpose of the finally block in exception handling?\n",
        "\n",
        "A: The finally block is used to execute code regardless of whether an exception occurred or not.\n",
        "\n",
        "4. Q: What is logging in Python?\n",
        "\n",
        "A: Logging is the process of recording events or messages that happen during program execution for debugging and monitoring.\n",
        "\n",
        "5. Q: What is the significance of the __del__ method in Python?\n",
        "\n",
        "A: The __del__ method is a destructor used to clean up resources when an object is deleted.\n",
        "\n",
        "6. Q: What is the difference between import and from ... import in Python?\n",
        "\n",
        "A: import brings in the whole module, while from ... import imports specific functions or classes from a module.\n",
        "\n",
        "7. Q: How can you handle multiple exceptions in Python?\n",
        "\n",
        "A: Multiple exceptions can be handled using separate except blocks or by combining exceptions in a tuple.\n",
        "\n",
        "8. Q: What is the purpose of the with statement when handling files in Python?\n",
        "\n",
        "A: The with statement ensures that files are properly closed after being used, even if errors occur.\n",
        "\n",
        "9. Q: What is the difference between multithreading and multiprocessing?\n",
        "\n",
        "A: Multithreading uses multiple threads in a single process, while multiprocessing uses separate processes for concurrent execution.\n",
        "\n",
        "10. Q: What are the advantages of using logging in a program?\n",
        "\n",
        "A: Logging helps in tracking errors, understanding program flow, and debugging more efficiently.\n",
        "\n",
        "11. Q: What is memory management in Python?\n",
        "\n",
        "A: Memory management in Python involves automatic allocation and deallocation of memory using reference counting and garbage collection.\n",
        "\n",
        "12. Q: What are the basic steps involved in exception handling in Python?\n",
        "\n",
        "A: The steps include using try, except, else, and finally blocks to manage errors.\n",
        "\n",
        "13. Q: Why is memory management important in Python?\n",
        "\n",
        "A: It helps prevent memory leaks and ensures efficient use of memory resources.\n",
        "\n",
        "14. Q: What is the role of try and except in exception handling?\n",
        "\n",
        "A: The try block is used to wrap code that may raise an error, and the except block handles the error if it occurs.\n",
        "\n",
        "15. Q: How does Python's garbage collection system work?\n",
        "\n",
        "A: Python uses reference counting and a cyclic garbage collector to automatically clean up unused objects.\n",
        "\n",
        "16. Q: What is the purpose of the else block in exception handling?\n",
        "\n",
        "A: The else block runs if no exceptions are raised in the try block.\n",
        "\n",
        "17. Q: What are the common logging levels in Python?\n",
        "\n",
        "A: Common logging levels include DEBUG, INFO, WARNING, ERROR, and CRITICAL.\n",
        "\n",
        "18. Q: What is the difference between os.fork() and multiprocessing in Python?\n",
        "\n",
        "A: os.fork() is a low-level method used in Unix systems to create a child process, while multiprocessing is a high-level module that works on multiple platforms.\n",
        "\n",
        "19. Q: What is the importance of closing a file in Python?\n",
        "\n",
        "A: Closing a file releases system resources and ensures all data is properly written to the file.\n",
        "\n",
        "20. Q: What is the difference between file.read() and file.readline() in Python?\n",
        "\n",
        "A: file.read() reads the entire file content, while file.readline() reads only one line at a time.\n",
        "\n",
        "21. Q: What is the logging module in Python used for?\n",
        "\n",
        "A: It is used for writing log messages to a file or console to track events during program execution.\n",
        "\n",
        "22. Q: What is the os module in Python used for in file handling?\n",
        "\n",
        "A: The os module provides functions to interact with the operating system, including file and directory operations.\n",
        "\n",
        "23. Q: What are the challenges associated with memory management in Python?\n",
        "\n",
        "A: Challenges include managing circular references and optimizing memory usage in large applications.\n",
        "\n",
        "24. Q: How do you raise an exception manually in Python?\n",
        "\n",
        "A: Use the raise statement followed by the exception type to raise an exception manually.\n",
        "\n",
        "25. Q: Why is it important to use multithreading in certain applications?\n",
        "\n",
        "A: Multithreading improves performance in I/O-bound programs by allowing tasks to run concurrently."
      ],
      "metadata": {
        "id": "KHJwWL-yp8PG"
      }
    },
    {
      "cell_type": "code",
      "source": [
        "# 1. Q: How can you open a file for writing in Python and write a string to it?\n",
        "with open(\"example.txt\", \"w\") as file:\n",
        "    file.write(\"Hello, this is a sample text.\")\n"
      ],
      "metadata": {
        "id": "oWEnn6-OqQko"
      },
      "execution_count": 1,
      "outputs": []
    },
    {
      "cell_type": "code",
      "source": [
        "# 2. Q: Write a Python program to read the contents of a file and print each line.\n",
        "with open(\"example.txt\", \"r\") as file:\n",
        "    for line in file:\n",
        "        print(line.strip())\n"
      ],
      "metadata": {
        "colab": {
          "base_uri": "https://localhost:8080/"
        },
        "id": "yH5xXYt9rS8G",
        "outputId": "5fa1be67-1365-4199-db3e-822a0aaa8b1a"
      },
      "execution_count": 2,
      "outputs": [
        {
          "output_type": "stream",
          "name": "stdout",
          "text": [
            "Hello, this is a sample text.\n"
          ]
        }
      ]
    },
    {
      "cell_type": "code",
      "source": [
        "# 3. Q: How would you handle a case where the file doesn't exist while trying to open it for reading?\n",
        "try:\n",
        "    with open(\"nonexistent.txt\", \"r\") as file:\n",
        "        content = file.read()\n",
        "except FileNotFoundError:\n",
        "    print(\"File not found!\")\n"
      ],
      "metadata": {
        "colab": {
          "base_uri": "https://localhost:8080/"
        },
        "id": "dEyQEv2IrS_p",
        "outputId": "30c0f19f-ec82-4f62-b507-6d642056034f"
      },
      "execution_count": 3,
      "outputs": [
        {
          "output_type": "stream",
          "name": "stdout",
          "text": [
            "File not found!\n"
          ]
        }
      ]
    },
    {
      "cell_type": "code",
      "source": [
        "# 4. Q: Write a Python script that reads from one file and writes its content to another file.\n",
        "with open(\"source.txt\", \"r\") as src, open(\"destination.txt\", \"w\") as dest:\n",
        "    dest.write(src.read())\n"
      ],
      "metadata": {
        "colab": {
          "base_uri": "https://localhost:8080/",
          "height": 176
        },
        "id": "2L-ncqhirTCo",
        "outputId": "343ef10f-8445-46f0-ea0f-c2ee019d7fd3"
      },
      "execution_count": 4,
      "outputs": [
        {
          "output_type": "error",
          "ename": "FileNotFoundError",
          "evalue": "[Errno 2] No such file or directory: 'source.txt'",
          "traceback": [
            "\u001b[0;31m---------------------------------------------------------------------------\u001b[0m",
            "\u001b[0;31mFileNotFoundError\u001b[0m                         Traceback (most recent call last)",
            "\u001b[0;32m<ipython-input-4-c4d1359f58d8>\u001b[0m in \u001b[0;36m<cell line: 0>\u001b[0;34m()\u001b[0m\n\u001b[1;32m      1\u001b[0m \u001b[0;31m# 4. Q: Write a Python script that reads from one file and writes its content to another file.\u001b[0m\u001b[0;34m\u001b[0m\u001b[0;34m\u001b[0m\u001b[0m\n\u001b[0;32m----> 2\u001b[0;31m \u001b[0;32mwith\u001b[0m \u001b[0mopen\u001b[0m\u001b[0;34m(\u001b[0m\u001b[0;34m\"source.txt\"\u001b[0m\u001b[0;34m,\u001b[0m \u001b[0;34m\"r\"\u001b[0m\u001b[0;34m)\u001b[0m \u001b[0;32mas\u001b[0m \u001b[0msrc\u001b[0m\u001b[0;34m,\u001b[0m \u001b[0mopen\u001b[0m\u001b[0;34m(\u001b[0m\u001b[0;34m\"destination.txt\"\u001b[0m\u001b[0;34m,\u001b[0m \u001b[0;34m\"w\"\u001b[0m\u001b[0;34m)\u001b[0m \u001b[0;32mas\u001b[0m \u001b[0mdest\u001b[0m\u001b[0;34m:\u001b[0m\u001b[0;34m\u001b[0m\u001b[0;34m\u001b[0m\u001b[0m\n\u001b[0m\u001b[1;32m      3\u001b[0m     \u001b[0mdest\u001b[0m\u001b[0;34m.\u001b[0m\u001b[0mwrite\u001b[0m\u001b[0;34m(\u001b[0m\u001b[0msrc\u001b[0m\u001b[0;34m.\u001b[0m\u001b[0mread\u001b[0m\u001b[0;34m(\u001b[0m\u001b[0;34m)\u001b[0m\u001b[0;34m)\u001b[0m\u001b[0;34m\u001b[0m\u001b[0;34m\u001b[0m\u001b[0m\n",
            "\u001b[0;31mFileNotFoundError\u001b[0m: [Errno 2] No such file or directory: 'source.txt'"
          ]
        }
      ]
    },
    {
      "cell_type": "code",
      "source": [
        "# 5. Q: How would you catch and handle division by zero error in Python?\n",
        "try:\n",
        "    result = 10 / 0\n",
        "except ZeroDivisionError:\n",
        "    print(\"Cannot divide by zero!\")\n"
      ],
      "metadata": {
        "colab": {
          "base_uri": "https://localhost:8080/"
        },
        "id": "_btqq8dtrTIy",
        "outputId": "04f09a58-acf7-482c-b4ad-8a985adf5cd0"
      },
      "execution_count": 5,
      "outputs": [
        {
          "output_type": "stream",
          "name": "stdout",
          "text": [
            "Cannot divide by zero!\n"
          ]
        }
      ]
    },
    {
      "cell_type": "code",
      "source": [
        "# 6. Q: Write a Python program that logs an error message to a log file when a division by zero exception occurs.\n",
        "import logging\n",
        "logging.basicConfig(filename=\"error.log\", level=logging.ERROR)\n",
        "\n",
        "try:\n",
        "    x = 10 / 0\n",
        "except ZeroDivisionError as e:\n",
        "    logging.error(f\"Error occurred: {e}\")\n"
      ],
      "metadata": {
        "colab": {
          "base_uri": "https://localhost:8080/"
        },
        "id": "nQnjgzMerTLY",
        "outputId": "90357c6c-3987-497d-f5f0-4058169af3e5"
      },
      "execution_count": 6,
      "outputs": [
        {
          "output_type": "stream",
          "name": "stderr",
          "text": [
            "ERROR:root:Error occurred: division by zero\n"
          ]
        }
      ]
    },
    {
      "cell_type": "code",
      "source": [
        "# 7. Q: How do you log information at different levels (INFO, ERROR, WARNING) in Python using the logging module?\n",
        "import logging\n",
        "logging.basicConfig(level=logging.DEBUG)\n",
        "\n",
        "logging.info(\"This is an info message.\")\n",
        "logging.warning(\"This is a warning.\")\n",
        "logging.error(\"This is an error.\")\n"
      ],
      "metadata": {
        "colab": {
          "base_uri": "https://localhost:8080/"
        },
        "id": "oXlNCWNWrTOP",
        "outputId": "d391710d-0f25-4e79-f988-56d76010eb17"
      },
      "execution_count": 7,
      "outputs": [
        {
          "output_type": "stream",
          "name": "stderr",
          "text": [
            "WARNING:root:This is a warning.\n",
            "ERROR:root:This is an error.\n"
          ]
        }
      ]
    },
    {
      "cell_type": "code",
      "source": [
        "# 8. Q: Write a program to handle a file opening error using exception handling.\n",
        "try:\n",
        "    file = open(\"data.txt\", \"r\")\n",
        "except IOError:\n",
        "    print(\"An error occurred while opening the file.\")\n"
      ],
      "metadata": {
        "colab": {
          "base_uri": "https://localhost:8080/"
        },
        "id": "nCpMoLoDrTRW",
        "outputId": "9e92ee0d-ff2e-4853-ae33-a16157f9e7d9"
      },
      "execution_count": 8,
      "outputs": [
        {
          "output_type": "stream",
          "name": "stdout",
          "text": [
            "An error occurred while opening the file.\n"
          ]
        }
      ]
    },
    {
      "cell_type": "code",
      "source": [
        "# 9. Q: How can you read a file line by line and store its content in a list in Python?\n",
        "with open(\"example.txt\", \"r\") as file:\n",
        "    lines = file.readlines()\n",
        "print(lines)\n"
      ],
      "metadata": {
        "colab": {
          "base_uri": "https://localhost:8080/"
        },
        "id": "P2JgL9MMrTUB",
        "outputId": "c6362ce5-4ff8-4632-8565-b0282b960104"
      },
      "execution_count": 9,
      "outputs": [
        {
          "output_type": "stream",
          "name": "stdout",
          "text": [
            "['Hello, this is a sample text.']\n"
          ]
        }
      ]
    },
    {
      "cell_type": "code",
      "source": [
        "# 10. Q: How can you append data to an existing file in Python?\n",
        "with open(\"example.txt\", \"a\") as file:\n",
        "    file.write(\"\\nThis is additional text.\")\n"
      ],
      "metadata": {
        "id": "zW7QBqm6rTXB"
      },
      "execution_count": 10,
      "outputs": []
    },
    {
      "cell_type": "code",
      "source": [
        "# 11. Q: Write a Python program that uses a try-except block to handle an error when accessing a dictionary key that doesn't exist.\n",
        "data = {\"name\": \"John\"}\n",
        "\n",
        "try:\n",
        "    print(data[\"age\"])\n",
        "except KeyError:\n",
        "    print(\"Key not found in dictionary.\")\n"
      ],
      "metadata": {
        "colab": {
          "base_uri": "https://localhost:8080/"
        },
        "id": "PHtmbJrlrTZ_",
        "outputId": "538a6c6d-edf7-45a7-af76-606e321444a9"
      },
      "execution_count": 11,
      "outputs": [
        {
          "output_type": "stream",
          "name": "stdout",
          "text": [
            "Key not found in dictionary.\n"
          ]
        }
      ]
    },
    {
      "cell_type": "code",
      "source": [
        "# 12. Q: Write a program that demonstrates using multiple except blocks to handle different types of exceptions.\n",
        "try:\n",
        "    x = 10 / 0  # ZeroDivisionError\n",
        "    y = int(\"abc\")  # ValueError\n",
        "except ZeroDivisionError:\n",
        "    print(\"Cannot divide by zero.\")\n",
        "except ValueError:\n",
        "    print(\"Invalid conversion from string to integer.\")\n"
      ],
      "metadata": {
        "colab": {
          "base_uri": "https://localhost:8080/"
        },
        "id": "FkMW-FKVrTc7",
        "outputId": "7ad30bfe-12a4-4b82-ab6b-2ab5b3d8758b"
      },
      "execution_count": 12,
      "outputs": [
        {
          "output_type": "stream",
          "name": "stdout",
          "text": [
            "Cannot divide by zero.\n"
          ]
        }
      ]
    },
    {
      "cell_type": "code",
      "source": [
        "# 13. Q: How would you check if a file exists before attempting to read it in Python?\n",
        "import os\n",
        "\n",
        "if os.path.exists(\"example.txt\"):\n",
        "    with open(\"example.txt\", \"r\") as file:\n",
        "        content = file.read()\n",
        "        print(content)\n",
        "else:\n",
        "    print(\"File does not exist.\")\n"
      ],
      "metadata": {
        "colab": {
          "base_uri": "https://localhost:8080/"
        },
        "id": "64h7iHNBrTf_",
        "outputId": "44fc7982-8273-4232-9e68-1d417c31f14e"
      },
      "execution_count": 13,
      "outputs": [
        {
          "output_type": "stream",
          "name": "stdout",
          "text": [
            "Hello, this is a sample text.\n",
            "This is additional text.\n"
          ]
        }
      ]
    },
    {
      "cell_type": "code",
      "source": [
        "# 14. Q: Write a program that uses the logging module to log both informational and error messages.\n",
        "import logging\n",
        "logging.basicConfig(filename=\"app.log\", level=logging.DEBUG)\n",
        "\n",
        "logging.info(\"This is an informational message.\")\n",
        "logging.error(\"This is an error message.\")\n"
      ],
      "metadata": {
        "colab": {
          "base_uri": "https://localhost:8080/"
        },
        "id": "hnxDjtkfrUKh",
        "outputId": "4dee6617-91da-4d73-d24e-cbf1e678f181"
      },
      "execution_count": 14,
      "outputs": [
        {
          "output_type": "stream",
          "name": "stderr",
          "text": [
            "ERROR:root:This is an error message.\n"
          ]
        }
      ]
    },
    {
      "cell_type": "code",
      "source": [
        "# 15. Q: Write a Python program that prints the content of a file and handles the case when the file is empty.\n",
        "try:\n",
        "    with open(\"example.txt\", \"r\") as file:\n",
        "        content = file.read()\n",
        "        if not content:\n",
        "            print(\"The file is empty.\")\n",
        "        else:\n",
        "            print(content)\n",
        "except FileNotFoundError:\n",
        "    print(\"File not found.\")\n"
      ],
      "metadata": {
        "colab": {
          "base_uri": "https://localhost:8080/"
        },
        "id": "Od08dwyMrUNi",
        "outputId": "10f442cd-888e-427c-e555-981a74eae429"
      },
      "execution_count": 15,
      "outputs": [
        {
          "output_type": "stream",
          "name": "stdout",
          "text": [
            "Hello, this is a sample text.\n",
            "This is additional text.\n"
          ]
        }
      ]
    },
    {
      "cell_type": "code",
      "source": [
        "# 16. Q: Demonstrate how to use memory profiling to check the memory usage of a small program.\n",
        "# This example uses the 'memory_profiler' module.\n",
        "from memory_profiler import profile\n",
        "\n",
        "@profile\n",
        "def my_function():\n",
        "    a = [i for i in range(1000000)]\n",
        "    return a\n",
        "\n",
        "my_function()\n"
      ],
      "metadata": {
        "colab": {
          "base_uri": "https://localhost:8080/",
          "height": 384
        },
        "id": "uogOste2rUQw",
        "outputId": "f7a7eea6-a05d-4044-b2d0-ec3c75023389"
      },
      "execution_count": 16,
      "outputs": [
        {
          "output_type": "error",
          "ename": "ModuleNotFoundError",
          "evalue": "No module named 'memory_profiler'",
          "traceback": [
            "\u001b[0;31m---------------------------------------------------------------------------\u001b[0m",
            "\u001b[0;31mModuleNotFoundError\u001b[0m                       Traceback (most recent call last)",
            "\u001b[0;32m<ipython-input-16-efe6d450483a>\u001b[0m in \u001b[0;36m<cell line: 0>\u001b[0;34m()\u001b[0m\n\u001b[1;32m      1\u001b[0m \u001b[0;31m# 16. Q: Demonstrate how to use memory profiling to check the memory usage of a small program.\u001b[0m\u001b[0;34m\u001b[0m\u001b[0;34m\u001b[0m\u001b[0m\n\u001b[1;32m      2\u001b[0m \u001b[0;31m# This example uses the 'memory_profiler' module.\u001b[0m\u001b[0;34m\u001b[0m\u001b[0;34m\u001b[0m\u001b[0m\n\u001b[0;32m----> 3\u001b[0;31m \u001b[0;32mfrom\u001b[0m \u001b[0mmemory_profiler\u001b[0m \u001b[0;32mimport\u001b[0m \u001b[0mprofile\u001b[0m\u001b[0;34m\u001b[0m\u001b[0;34m\u001b[0m\u001b[0m\n\u001b[0m\u001b[1;32m      4\u001b[0m \u001b[0;34m\u001b[0m\u001b[0m\n\u001b[1;32m      5\u001b[0m \u001b[0;34m@\u001b[0m\u001b[0mprofile\u001b[0m\u001b[0;34m\u001b[0m\u001b[0;34m\u001b[0m\u001b[0m\n",
            "\u001b[0;31mModuleNotFoundError\u001b[0m: No module named 'memory_profiler'",
            "",
            "\u001b[0;31m---------------------------------------------------------------------------\u001b[0;32m\nNOTE: If your import is failing due to a missing package, you can\nmanually install dependencies using either !pip or !apt.\n\nTo view examples of installing some common dependencies, click the\n\"Open Examples\" button below.\n\u001b[0;31m---------------------------------------------------------------------------\u001b[0m\n"
          ],
          "errorDetails": {
            "actions": [
              {
                "action": "open_url",
                "actionText": "Open Examples",
                "url": "/notebooks/snippets/importing_libraries.ipynb"
              }
            ]
          }
        }
      ]
    },
    {
      "cell_type": "code",
      "source": [
        "# 17. Q: Write a Python program to create and write a list of numbers to a file, one number per line.\n",
        "numbers = [1, 2, 3, 4, 5]\n",
        "with open(\"numbers.txt\", \"w\") as file:\n",
        "    for num in numbers:\n",
        "        file.write(f\"{num}\\n\")\n"
      ],
      "metadata": {
        "id": "s7FKbkaArUUO"
      },
      "execution_count": 17,
      "outputs": []
    },
    {
      "cell_type": "code",
      "source": [
        "# 18. Q: How would you implement a basic logging setup that logs to a file with rotation after 1MB?\n",
        "import logging\n",
        "from logging.handlers import RotatingFileHandler\n",
        "\n",
        "handler = RotatingFileHandler(\"app.log\", maxBytes=1e6, backupCount=3)\n",
        "logger = logging.getLogger()\n",
        "logger.addHandler(handler)\n",
        "logger.setLevel(logging.INFO)\n",
        "\n",
        "logger.info(\"This is a rotated log entry.\")\n"
      ],
      "metadata": {
        "colab": {
          "base_uri": "https://localhost:8080/"
        },
        "id": "rY8FtLbBrUXX",
        "outputId": "77629264-c809-44cc-d77e-3b9fefb2e621"
      },
      "execution_count": 19,
      "outputs": [
        {
          "output_type": "stream",
          "name": "stderr",
          "text": [
            "INFO:root:This is a rotated log entry.\n"
          ]
        }
      ]
    },
    {
      "cell_type": "code",
      "source": [
        "# 19. Q: Write a program that handles both IndexError and KeyError using a try-except block.\n",
        "data = {\"name\": \"John\", \"age\": 25}\n",
        "try:\n",
        "    print(data[\"address\"])  # KeyError\n",
        "    print([1, 2, 3][5])  # IndexError\n",
        "except KeyError:\n",
        "    print(\"Key does not exist in the dictionary.\")\n",
        "except IndexError:\n",
        "    print(\"Index is out of range.\")\n"
      ],
      "metadata": {
        "colab": {
          "base_uri": "https://localhost:8080/"
        },
        "id": "7Rf2Fl1nsI70",
        "outputId": "96a35569-2d38-496c-d04e-4fce1f335f19"
      },
      "execution_count": 20,
      "outputs": [
        {
          "output_type": "stream",
          "name": "stdout",
          "text": [
            "Key does not exist in the dictionary.\n"
          ]
        }
      ]
    },
    {
      "cell_type": "code",
      "source": [
        "# 20. Q: How would you open a file and read its contents using a context manager in Python?\n",
        "with open(\"example.txt\", \"r\") as file:\n",
        "    content = file.read()\n",
        "    print(content)\n"
      ],
      "metadata": {
        "colab": {
          "base_uri": "https://localhost:8080/"
        },
        "id": "1bumo988sJKq",
        "outputId": "f65d8ace-66c1-4509-b81e-4abc65923d93"
      },
      "execution_count": 21,
      "outputs": [
        {
          "output_type": "stream",
          "name": "stdout",
          "text": [
            "Hello, this is a sample text.\n",
            "This is additional text.\n"
          ]
        }
      ]
    },
    {
      "cell_type": "code",
      "source": [
        "# 21. Q: Write a Python program that reads a file and prints the number of occurrences of a specific word.\n",
        "word_to_find = \"hello\"\n",
        "with open(\"example.txt\", \"r\") as file:\n",
        "    content = file.read()\n",
        "    word_count = content.lower().count(word_to_find.lower())\n",
        "    print(f\"The word '{word_to_find}' appears {word_count} times.\")\n"
      ],
      "metadata": {
        "colab": {
          "base_uri": "https://localhost:8080/"
        },
        "id": "SPVrwI6asYB6",
        "outputId": "63a06c45-1a27-4c64-9dac-b9f0fc2d1c06"
      },
      "execution_count": 23,
      "outputs": [
        {
          "output_type": "stream",
          "name": "stdout",
          "text": [
            "The word 'hello' appears 1 times.\n"
          ]
        }
      ]
    },
    {
      "cell_type": "code",
      "source": [
        "# 22. Q: How can you check if a file is empty before attempting to read its contents?\n",
        "import os\n",
        "\n",
        "if os.stat(\"example.txt\").st_size == 0:\n",
        "    print(\"The file is empty.\")\n",
        "else:\n",
        "    with open(\"example.txt\", \"r\") as file:\n",
        "        content = file.read()\n",
        "        print(content)\n"
      ],
      "metadata": {
        "colab": {
          "base_uri": "https://localhost:8080/"
        },
        "id": "9YwCXgqusYJ0",
        "outputId": "397dd055-63ef-4be9-89b0-4e0788a713b1"
      },
      "execution_count": 22,
      "outputs": [
        {
          "output_type": "stream",
          "name": "stdout",
          "text": [
            "Hello, this is a sample text.\n",
            "This is additional text.\n"
          ]
        }
      ]
    },
    {
      "cell_type": "code",
      "source": [
        "# 23. Q: Write a Python program that writes to a log file when an error occurs during file handling.\n",
        "import logging\n",
        "\n",
        "logging.basicConfig(filename=\"file_error.log\", level=logging.ERROR)\n",
        "\n",
        "try:\n",
        "    with open(\"nonexistent_file.txt\", \"r\") as file:\n",
        "        content = file.read()\n",
        "except FileNotFoundError as e:\n",
        "    logging.error(f\"Error occurred: {e}\")\n"
      ],
      "metadata": {
        "colab": {
          "base_uri": "https://localhost:8080/"
        },
        "id": "4dYpr9BQsYQE",
        "outputId": "193c737d-6a91-4ad7-fe79-24a3ac0f3f0c"
      },
      "execution_count": 24,
      "outputs": [
        {
          "output_type": "stream",
          "name": "stderr",
          "text": [
            "ERROR:root:Error occurred: [Errno 2] No such file or directory: 'nonexistent_file.txt'\n"
          ]
        }
      ]
    }
  ]
}